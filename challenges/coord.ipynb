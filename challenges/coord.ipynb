{
 "cells": [
  {
   "cell_type": "code",
   "execution_count": 20,
   "id": "bc2fcdba-387d-4ea8-90ef-8d9e347878fc",
   "metadata": {},
   "outputs": [],
   "source": [
    "from bs4 import BeautifulSoup\n",
    "import requests"
   ]
  },
  {
   "cell_type": "code",
   "execution_count": 21,
   "id": "d6a75564-3a9d-4721-ba02-83dd8ebe41d8",
   "metadata": {},
   "outputs": [],
   "source": [
    "import pandas as pd"
   ]
  },
  {
   "cell_type": "code",
   "execution_count": 22,
   "id": "e743a99c-d161-4046-9936-73274e37e290",
   "metadata": {},
   "outputs": [],
   "source": [
    "# Make request\n",
    "url = \"https://docs.google.com/document/d/e/2PACX-1vRMx5YQlZNa3ra8dYYxmv-QIQ3YJe8tbI3kqcuC7lQiZm-CSEznKfN_HYNSpoXcZIV3Y_O3YoUB1ecq/pub\"\n",
    "html_response = requests.get(url=url)\n",
    "\n",
    "response = requests.get(url)\n",
    "\n",
    "# Parse the HTML content\n",
    "soup = BeautifulSoup(response.content, 'html.parser')\n",
    "\n",
    "# Find the table (assuming it's the first table on the page)\n",
    "table = soup.find('table')\n",
    "\n",
    "# Extract table headers\n",
    "headers = [header.text for header in table.find_all('th')]\n",
    "\n",
    "# Extract table rows\n",
    "rows = []\n",
    "for row in table.find_all('tr'):\n",
    "    cells = row.find_all('td')\n",
    "    if len(cells) > 0:\n",
    "        rows.append([cell.text for cell in cells])\n",
    "\n",
    "\n"
   ]
  },
  {
   "cell_type": "code",
   "execution_count": 23,
   "id": "306b3b88-b2d8-4e65-962b-675920598a10",
   "metadata": {},
   "outputs": [
    {
     "name": "stdout",
     "output_type": "stream",
     "text": [
      "[['x-coordinate', 'Character', 'y-coordinate'], ['0', '█', '0'], ['0', '█', '1'], ['0', '█', '2'], ['1', '▀', '1'], ['1', '▀', '2'], ['2', '▀', '1'], ['2', '▀', '2'], ['3', '▀', '2']]\n"
     ]
    }
   ],
   "source": [
    "print(rows)"
   ]
  },
  {
   "cell_type": "code",
   "execution_count": 24,
   "id": "ab0d662c-a4c0-4f0f-946e-c606331133dc",
   "metadata": {},
   "outputs": [
    {
     "name": "stdout",
     "output_type": "stream",
     "text": [
      "  x-coordinate Character y-coordinate\n",
      "0            0         █            0\n",
      "1            0         █            1\n",
      "2            0         █            2\n",
      "3            1         ▀            1\n",
      "4            1         ▀            2\n",
      "5            2         ▀            1\n",
      "6            2         ▀            2\n",
      "7            3         ▀            2\n"
     ]
    }
   ],
   "source": [
    "# Convert list to DataFrame\n",
    "rows.pop(0)\n",
    "\n",
    "df = pd.DataFrame(rows, columns=['x-coordinate', 'Character', 'y-coordinate'])\n",
    "\n",
    "print(df)"
   ]
  },
  {
   "cell_type": "code",
   "execution_count": 25,
   "id": "7a2962e6-02a3-4f3b-a1f4-8feeddbe7965",
   "metadata": {},
   "outputs": [],
   "source": [
    "import matplotlib.pyplot as plt"
   ]
  },
  {
   "cell_type": "code",
   "execution_count": 26,
   "id": "5b159f4e-da08-4b52-840b-20f9e0cdc3a6",
   "metadata": {},
   "outputs": [
    {
     "name": "stdout",
     "output_type": "stream",
     "text": [
      "x-coordinate    object\n",
      "Character       object\n",
      "y-coordinate    object\n",
      "dtype: object\n"
     ]
    }
   ],
   "source": [
    "print(df.dtypes)"
   ]
  },
  {
   "cell_type": "code",
   "execution_count": 27,
   "id": "18abbfbf-d23d-4013-bb6b-572f3aeab0ae",
   "metadata": {},
   "outputs": [
    {
     "name": "stdout",
     "output_type": "stream",
     "text": [
      "x-coordinate     int64\n",
      "Character       object\n",
      "y-coordinate    object\n",
      "dtype: object\n"
     ]
    }
   ],
   "source": [
    "df['x-coordinate'] = pd.to_numeric(df['x-coordinate'], errors='coerce')  # Convert to numeric (errors='coerce' handles non-numeric values)\n",
    "print(df.dtypes)"
   ]
  },
  {
   "cell_type": "code",
   "execution_count": 28,
   "id": "8bf0bea4-0edb-4dbb-9431-cd2a9ba4ad23",
   "metadata": {},
   "outputs": [
    {
     "name": "stdout",
     "output_type": "stream",
     "text": [
      "x-coordinate     int64\n",
      "Character       object\n",
      "y-coordinate     int64\n",
      "dtype: object\n"
     ]
    }
   ],
   "source": [
    "df['y-coordinate'] = pd.to_numeric(df['y-coordinate'], errors='coerce')  # Convert to numeric (errors='coerce' handles non-numeric values)\n",
    "print(df.dtypes)"
   ]
  },
  {
   "cell_type": "code",
   "execution_count": 30,
   "id": "c2a9b1d0-3875-46bd-b79e-690bc316276e",
   "metadata": {},
   "outputs": [
    {
     "data": {
      "image/png": "[encoded data removed]",
      "text/plain": [
       "<Figure size 600x400 with 1 Axes>"
      ]
     },
     "metadata": {},
     "output_type": "display_data"
    }
   ],
   "source": [
    "# Create the plot\n",
    "plt.figure(figsize=(6, 4))  # Adjust figure size if needed\n",
    "\n",
    "for x, y, char in zip(df['x-coordinate'], df['y-coordinate'], df['Character']):\n",
    "    plt.text(x, y, char, ha='center', va='center', fontsize=20) # Adjust fontsize as needed\n",
    "\n",
    "# Set plot limits and labels (optional, but recommended)\n",
    "plt.xlim(df['x-coordinate'].min() - 0.5, df['x-coordinate'].max() + 0.5)  # Add padding\n",
    "plt.ylim(df['y-coordinate'].min() - 0.5, df['y-coordinate'].max() + 0.5)  # Add padding\n",
    "plt.xlabel('X-coordinate')\n",
    "plt.ylabel('Y-coordinate')\n",
    "plt.title('Character Plot')\n",
    "\n",
    "\n",
    "# Show the plot\n",
    "plt.grid(True) # Add grid for better visualization (optional)\n",
    "plt.gca().set_aspect('equal') # To have equal scaling on both axes\n",
    "plt.show()\n"
   ]
  },
  {
   "cell_type": "code",
   "execution_count": null,
   "id": "e795d0bc-8328-41f4-9559-449b64981bef",
   "metadata": {},
   "outputs": [],
   "source": []
  }
 ],
 "metadata": {
  "kernelspec": {
   "display_name": "Python 3 (ipykernel)",
   "language": "python",
   "name": "python3"
  },
  "language_info": {
   "codemirror_mode": {
    "name": "ipython",
    "version": 3
   },
   "file_extension": ".py",
   "mimetype": "text/x-python",
   "name": "python",
   "nbconvert_exporter": "python",
   "pygments_lexer": "ipython3",
   "version": "3.12.1"
  }
 },
 "nbformat": 4,
 "nbformat_minor": 5
}
